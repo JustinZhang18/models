{
 "cells": [
  {
   "cell_type": "code",
   "execution_count": 1,
   "id": "65e0e35f",
   "metadata": {},
   "outputs": [],
   "source": [
    "import os\n",
    "os.environ['PYTHONPATH'] += \":/home/ubuntu/repos/models\""
   ]
  },
  {
   "cell_type": "code",
   "execution_count": 2,
   "id": "0c5f65d2",
   "metadata": {},
   "outputs": [
    {
     "name": "stderr",
     "output_type": "stream",
     "text": [
      "2022-03-31 14:21:20.757694: I tensorflow/stream_executor/platform/default/dso_loader.cc:49] Successfully opened dynamic library libcudart.so.11.0\n",
      "/home/ubuntu/.local/lib/python3.8/site-packages/tqdm/auto.py:22: TqdmWarning: IProgress not found. Please update jupyter and ipywidgets. See https://ipywidgets.readthedocs.io/en/stable/user_install.html\n",
      "  from .autonotebook import tqdm as notebook_tqdm\n"
     ]
    }
   ],
   "source": [
    "from __future__ import absolute_import\n",
    "from __future__ import division\n",
    "from __future__ import print_function\n",
    "\n",
    "import os\n",
    "\n",
    "# Import libraries\n",
    "from absl import app\n",
    "from absl import flags\n",
    "from absl import logging\n",
    "import tensorflow as tf\n",
    "import tensorflow_datasets as tfds\n",
    "from official.common import distribute_utils\n",
    "from official.utils.flags import core as flags_core\n",
    "from official.utils.misc import model_helpers\n",
    "from official.vision.image_classification.resnet import common\n"
   ]
  },
  {
   "cell_type": "code",
   "execution_count": 3,
   "id": "b4529c92",
   "metadata": {},
   "outputs": [],
   "source": [
    "@tfds.decode.make_decoder(output_dtype=tf.float32)\n",
    "def decode_image(example, feature):\n",
    "  \"\"\"Convert image to float32 and normalize from [0, 255] to [0.0, 1.0].\"\"\"\n",
    "  return tf.cast(feature.decode_example(example), dtype=tf.float32) / 255\n"
   ]
  },
  {
   "cell_type": "code",
   "execution_count": 119,
   "id": "119f24f2",
   "metadata": {},
   "outputs": [],
   "source": [
    "mnist = tfds.builder('mnist', data_dir='/home/ubuntu/repos/models/data_dir')\n",
    "\n",
    "_, mnist_test = mnist.as_dataset(\n",
    "  split=['train', 'test'],\n",
    "  decoders={'image': decode_image()},  # pylint: disable=no-value-for-parameter\n",
    "  as_supervised=True)\n",
    "\n",
    "eval_input_dataset = mnist_test.cache()"
   ]
  },
  {
   "cell_type": "code",
   "execution_count": 149,
   "id": "0183974a",
   "metadata": {},
   "outputs": [],
   "source": [
    "data_batch=[]\n",
    "label_batch=[]\n",
    "for e in eval_input_dataset:\n",
    "    data_batch.append(e[0].numpy().tolist())\n",
    "    label_batch.append(e[1].numpy())"
   ]
  },
  {
   "cell_type": "code",
   "execution_count": 150,
   "id": "30880737",
   "metadata": {},
   "outputs": [],
   "source": [
    "import numpy as np"
   ]
  },
  {
   "cell_type": "code",
   "execution_count": 151,
   "id": "cee0681d",
   "metadata": {},
   "outputs": [
    {
     "data": {
      "text/plain": [
       "(10000, 28, 28, 1)"
      ]
     },
     "execution_count": 151,
     "metadata": {},
     "output_type": "execute_result"
    }
   ],
   "source": [
    "np.array(data_batch).shape"
   ]
  },
  {
   "cell_type": "code",
   "execution_count": 152,
   "id": "9b0907ed",
   "metadata": {},
   "outputs": [],
   "source": [
    "import json\n",
    "data = json.dumps({\"signature_name\": \"serving_default\", \"instances\": data_batch})"
   ]
  },
  {
   "cell_type": "code",
   "execution_count": 153,
   "id": "83cc6e27",
   "metadata": {},
   "outputs": [],
   "source": [
    "import requests\n",
    "headers = {\"content-type\": \"application/json\"}\n",
    "json_response = requests.post('http://localhost:8501/v1/models/mnist:predict', data=data, headers=headers)\n",
    "predictions = json.loads(json_response.text)"
   ]
  },
  {
   "cell_type": "code",
   "execution_count": 140,
   "id": "25fce0c1",
   "metadata": {},
   "outputs": [
    {
     "data": {
      "text/plain": [
       "2"
      ]
     },
     "execution_count": 140,
     "metadata": {},
     "output_type": "execute_result"
    }
   ],
   "source": [
    "np.argmax(predictions['predictions'][0])"
   ]
  },
  {
   "cell_type": "code",
   "execution_count": 141,
   "id": "9a89f76f",
   "metadata": {},
   "outputs": [
    {
     "name": "stdout",
     "output_type": "stream",
     "text": [
      "[2, 0, 4, 8, 7, 6, 0, 6, 3, 1, 8, 0]\n"
     ]
    }
   ],
   "source": [
    "print(label_batch)"
   ]
  },
  {
   "cell_type": "code",
   "execution_count": 154,
   "id": "4b793eb3",
   "metadata": {},
   "outputs": [],
   "source": [
    "predict_labels=np.argmax(predictions['predictions'],axis=1)"
   ]
  },
  {
   "cell_type": "code",
   "execution_count": 155,
   "id": "98619da6",
   "metadata": {},
   "outputs": [],
   "source": [
    "from sklearn.metrics import accuracy_score"
   ]
  },
  {
   "cell_type": "code",
   "execution_count": 161,
   "id": "54ba320e",
   "metadata": {},
   "outputs": [],
   "source": [
    "logging.info(\"sdsadsa\",accuracy_score(label_batch,predict_labels))"
   ]
  },
  {
   "cell_type": "code",
   "execution_count": null,
   "id": "f3b50f3c",
   "metadata": {},
   "outputs": [],
   "source": [
    "logging"
   ]
  },
  {
   "cell_type": "code",
   "execution_count": 15,
   "id": "07bceb29",
   "metadata": {},
   "outputs": [
    {
     "name": "stdout",
     "output_type": "stream",
     "text": [
      "Model: \"mnist\"\n",
      "_________________________________________________________________\n",
      "Layer (type)                 Output Shape              Param #   \n",
      "=================================================================\n",
      "input_1 (InputLayer)         [(None, 28, 28, 1)]       0         \n",
      "_________________________________________________________________\n",
      "conv2d (Conv2D)              (None, 28, 28, 32)        832       \n",
      "_________________________________________________________________\n",
      "max_pooling2d (MaxPooling2D) (None, 14, 14, 32)        0         \n",
      "_________________________________________________________________\n",
      "conv2d_1 (Conv2D)            (None, 14, 14, 32)        25632     \n",
      "_________________________________________________________________\n",
      "max_pooling2d_1 (MaxPooling2 (None, 7, 7, 32)          0         \n",
      "_________________________________________________________________\n",
      "flatten (Flatten)            (None, 1568)              0         \n",
      "_________________________________________________________________\n",
      "dense (Dense)                (None, 1024)              1606656   \n",
      "_________________________________________________________________\n",
      "dropout (Dropout)            (None, 1024)              0         \n",
      "_________________________________________________________________\n",
      "dense_1 (Dense)              (None, 10)                10250     \n",
      "=================================================================\n",
      "Total params: 1,643,370\n",
      "Trainable params: 1,643,370\n",
      "Non-trainable params: 0\n",
      "_________________________________________________________________\n"
     ]
    }
   ],
   "source": [
    "model = tf.keras.models.load_model(\"/home/ubuntu/repos/models/model_dir/saved_model\")\n",
    "model.summary()"
   ]
  },
  {
   "cell_type": "code",
   "execution_count": null,
   "id": "e2fd8505",
   "metadata": {},
   "outputs": [],
   "source": []
  }
 ],
 "metadata": {
  "kernelspec": {
   "display_name": "Python [conda env:tf_models_env] *",
   "language": "python",
   "name": "conda-env-tf_models_env-py"
  },
  "language_info": {
   "codemirror_mode": {
    "name": "ipython",
    "version": 3
   },
   "file_extension": ".py",
   "mimetype": "text/x-python",
   "name": "python",
   "nbconvert_exporter": "python",
   "pygments_lexer": "ipython3",
   "version": "3.8.13"
  }
 },
 "nbformat": 4,
 "nbformat_minor": 5
}
